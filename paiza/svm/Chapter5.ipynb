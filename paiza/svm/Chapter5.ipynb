{
 "cells": [
  {
   "cell_type": "markdown",
   "metadata": {},
   "source": [
    "- フーリエ変換することで、元の波形を周波数毎に分けることができる\n",
    "- パワースペクトルは音声を構成する周波数の内訳\n",
    "  - 時間を考慮せずに周波数に対応する数値としてとらえることができる\n",
    "  - 音声の特徴をとらえられる"
   ]
  },
  {
   "cell_type": "code",
   "execution_count": 23,
   "metadata": {},
   "outputs": [],
   "source": [
    "import numpy as np\n",
    "import librosa\n",
    "import librosa.display\n",
    "import os\n",
    "import matplotlib.pyplot as plt\n",
    "from sklearn.model_selection import train_test_split\n",
    "from sklearn import svm\n",
    "from scipy import fftpack"
   ]
  },
  {
   "cell_type": "code",
   "execution_count": 31,
   "metadata": {},
   "outputs": [
    {
     "name": "stdout",
     "output_type": "stream",
     "text": [
      "縦軸がdb、横軸が周波数\n",
      "高音\n"
     ]
    },
    {
     "name": "stderr",
     "output_type": "stream",
     "text": [
      "c:\\users\\matok\\appdata\\local\\programs\\python\\python36\\lib\\site-packages\\scipy\\fftpack\\basic.py:153: FutureWarning: Using a non-tuple sequence for multidimensional indexing is deprecated; use `arr[tuple(seq)]` instead of `arr[seq]`. In the future this will be interpreted as an array index, `arr[np.array(seq)]`, which will result either in an error or a different result.\n",
      "  x = x[index]\n"
     ]
    },
    {
     "data": {
      "image/png": "[encoded data removed]",
      "text/plain": [
       "<Figure size 432x288 with 1 Axes>"
      ]
     },
     "metadata": {
      "needs_background": "light"
     },
     "output_type": "display_data"
    },
    {
     "name": "stdout",
     "output_type": "stream",
     "text": [
      "低音\n"
     ]
    },
    {
     "data": {
      "image/png": "[encoded data removed]",
      "text/plain": [
       "<Figure size 432x288 with 1 Axes>"
      ]
     },
     "metadata": {
      "needs_background": "light"
     },
     "output_type": "display_data"
    },
    {
     "data": {
      "text/plain": [
       "array([-43.57254 , -43.556282, -80.      , ..., -80.      , -80.      ,\n",
       "       -80.      ], dtype=float32)"
      ]
     },
     "execution_count": 31,
     "metadata": {},
     "output_type": "execute_result"
    }
   ],
   "source": [
    "# 音声データを読み込む\n",
    "speakers = {'kirishima': 0, 'suzutsuki': 1, 'belevskaya': 2}\n",
    "\n",
    "# 特徴量を返す\n",
    "def get_feat(file_name):\n",
    "    a, sr = librosa.load(file_name)\n",
    "    fft_wave = fftpack.rfft(a, n=sr)\n",
    "    fft_freq = fftpack.rfftfreq(n=sr, d=1/sr)\n",
    "    y = librosa.amplitude_to_db(fft_wave, ref=np.max)\n",
    "    plt.plot(fft_freq, y)\n",
    "    plt.show()\n",
    "    return y\n",
    "\n",
    "def get_data(dir_name):\n",
    "    data_X = []\n",
    "    data_y = []\n",
    "    for file_name in sorted(os.listdir(path=dir_name)):\n",
    "        print(\"read: {}\".format(file_name))\n",
    "        speaker = file_name[0:file_name.index('_')]\n",
    "        data_X.append(get_feat(os.path.join(dir_name, file_name)))\n",
    "        data_y.append((speakers[speaker], file_name))\n",
    "    \n",
    "    return (np.array(data_X), np.array(data_y))\n",
    "\n",
    "# data_X, data_y = get_data('voiceset')\n",
    "print('縦軸がdb、横軸が周波数')\n",
    "print('高音')\n",
    "get_feat('sample/hi.wav')\n",
    "print('低音')\n",
    "get_feat('sample/lo.wav')"
   ]
  },
  {
   "cell_type": "code",
   "execution_count": 25,
   "metadata": {},
   "outputs": [
    {
     "name": "stdout",
     "output_type": "stream",
     "text": [
      "read: belevskaya_06_su.wav\n",
      "read: belevskaya_07_su.wav\n",
      "read: belevskaya_b01.wav\n"
     ]
    },
    {
     "name": "stderr",
     "output_type": "stream",
     "text": [
      "c:\\users\\matok\\appdata\\local\\programs\\python\\python36\\lib\\site-packages\\scipy\\fftpack\\basic.py:160: FutureWarning: Using a non-tuple sequence for multidimensional indexing is deprecated; use `arr[tuple(seq)]` instead of `arr[seq]`. In the future this will be interpreted as an array index, `arr[np.array(seq)]`, which will result either in an error or a different result.\n",
      "  z[index] = x\n"
     ]
    },
    {
     "name": "stdout",
     "output_type": "stream",
     "text": [
      "read: belevskaya_b02.wav\n",
      "read: belevskaya_b03.wav\n",
      "read: belevskaya_b04.wav\n",
      "read: belevskaya_b05.wav\n",
      "read: belevskaya_b06.wav\n",
      "read: belevskaya_b07.wav\n",
      "read: belevskaya_b08_su.wav\n",
      "read: belevskaya_b09_su.wav\n",
      "read: belevskaya_b10.wav\n",
      "read: belevskaya_b11.wav\n",
      "read: belevskaya_b12.wav\n",
      "read: belevskaya_b13.wav\n",
      "read: belevskaya_b14.wav\n",
      "read: belevskaya_b15.wav\n",
      "read: belevskaya_b16.wav\n",
      "read: belevskaya_b17.wav\n",
      "read: kirishima_04_su.wav\n",
      "read: kirishima_b01.wav\n",
      "read: kirishima_b02_su.wav\n",
      "read: kirishima_b03.wav\n",
      "read: kirishima_b04.wav\n",
      "read: kirishima_b05.wav\n",
      "read: kirishima_b06.wav\n",
      "read: kirishima_b07.wav\n",
      "read: kirishima_c01.wav\n",
      "read: kirishima_c02.wav\n",
      "read: kirishima_c03.wav\n",
      "read: kirishima_c04.wav\n",
      "read: kirishima_c05.wav\n",
      "read: kirishima_c06.wav\n",
      "read: kirishima_c07.wav\n",
      "read: kirishima_c08.wav\n",
      "read: kirishima_c09.wav\n",
      "read: suzutsuki_b01.wav\n",
      "read: suzutsuki_b02.wav\n",
      "read: suzutsuki_b03.wav\n",
      "read: suzutsuki_b04.wav\n",
      "read: suzutsuki_b05.wav\n",
      "read: suzutsuki_b06.wav\n",
      "read: suzutsuki_b07.wav\n",
      "read: suzutsuki_b08.wav\n",
      "read: suzutsuki_b09.wav\n",
      "read: suzutsuki_b10.wav\n",
      "read: suzutsuki_b11.wav\n",
      "read: suzutsuki_b12.wav\n"
     ]
    }
   ],
   "source": [
    "# 音声データを読み込む\n",
    "speakers = {'kirishima': 0, 'suzutsuki': 1, 'belevskaya': 2}\n",
    "\n",
    "# 特徴量を返す\n",
    "def get_feat(file_name):\n",
    "    a, sr = librosa.load(file_name)\n",
    "    fft_wave = fftpack.rfft(a, n=sr)\n",
    "    fft_freq = fftpack.rfftfreq(n=sr, d=1/sr)\n",
    "    y = librosa.amplitude_to_db(fft_wave, ref=np.max)\n",
    "#    plt.plot(fft_freq, y)\n",
    "#    plt.show()\n",
    "    return y\n",
    "\n",
    "def get_data(dir_name):\n",
    "    data_X = []\n",
    "    data_y = []\n",
    "    for file_name in sorted(os.listdir(path=dir_name)):\n",
    "        print(\"read: {}\".format(file_name))\n",
    "        speaker = file_name[0:file_name.index('_')]\n",
    "        data_X.append(get_feat(os.path.join(dir_name, file_name)))\n",
    "        data_y.append((speakers[speaker], file_name))\n",
    "    \n",
    "    return (np.array(data_X), np.array(data_y))\n",
    "\n",
    "data_X, data_y = get_data('voiceset')"
   ]
  },
  {
   "cell_type": "code",
   "execution_count": 26,
   "metadata": {},
   "outputs": [
    {
     "name": "stdout",
     "output_type": "stream",
     "text": [
      "48 -> 36, 12\n"
     ]
    }
   ],
   "source": [
    "# 教師データとテストデータに分ける\n",
    "train_X, test_X, train_y, test_y = train_test_split(data_X, data_y, random_state=11813)\n",
    "print(\"{} -> {}, {}\".format(len(data_X), len(train_X), len(test_X)))"
   ]
  },
  {
   "cell_type": "code",
   "execution_count": 27,
   "metadata": {},
   "outputs": [
    {
     "data": {
      "text/plain": [
       "SVC(C=1, cache_size=200, class_weight=None, coef0=0.0,\n",
       "  decision_function_shape='ovr', degree=3, gamma=0.0001, kernel='rbf',\n",
       "  max_iter=-1, probability=False, random_state=None, shrinking=True,\n",
       "  tol=0.001, verbose=False)"
      ]
     },
     "execution_count": 27,
     "metadata": {},
     "output_type": "execute_result"
    }
   ],
   "source": [
    "clf = svm.SVC(gamma=0.0001, C=1)\n",
    "clf.fit(train_X, train_y.T[0])"
   ]
  },
  {
   "cell_type": "code",
   "execution_count": 28,
   "metadata": {},
   "outputs": [
    {
     "name": "stdout",
     "output_type": "stream",
     "text": [
      "x file: suzutsuki_b06.wav, actual: 2, expected: 1\n",
      "x file: kirishima_04_su.wav, actual: 2, expected: 0\n",
      "x file: kirishima_c01.wav, actual: 2, expected: 0\n",
      "o file: belevskaya_b04.wav, actual: 2, expected: 2\n",
      "o file: belevskaya_b14.wav, actual: 2, expected: 2\n",
      "x file: kirishima_b04.wav, actual: 2, expected: 0\n",
      "x file: suzutsuki_b08.wav, actual: 2, expected: 1\n",
      "o file: belevskaya_b07.wav, actual: 2, expected: 2\n",
      "x file: suzutsuki_b03.wav, actual: 2, expected: 1\n",
      "o file: belevskaya_b10.wav, actual: 2, expected: 2\n",
      "x file: kirishima_b01.wav, actual: 2, expected: 0\n",
      "o file: belevskaya_07_su.wav, actual: 2, expected: 2\n",
      "5/12\n"
     ]
    }
   ],
   "source": [
    "ok_count = 0\n",
    "\n",
    "for X, y in zip(test_X, test_y):\n",
    "    actual = clf.predict(np.array([X]))[0]\n",
    "    expected = y[0]\n",
    "    file_name = y[1]\n",
    "    ok_count += 1 if actual == expected else 0\n",
    "    result = 'o' if actual == expected else 'x'\n",
    "    print(\"{} file: {}, actual: {}, expected: {}\".format(result, file_name, actual, expected))\n",
    "\n",
    "print(\"{}/{}\".format(ok_count, len(test_X)))"
   ]
  },
  {
   "cell_type": "code",
   "execution_count": 29,
   "metadata": {},
   "outputs": [
    {
     "name": "stdout",
     "output_type": "stream",
     "text": [
      "x file: suzutsuki_b06.wav, actual: 2, expected: 1\n",
      "x file: kirishima_04_su.wav, actual: 2, expected: 0\n",
      "o file: kirishima_c01.wav, actual: 0, expected: 0\n",
      "o file: belevskaya_b04.wav, actual: 2, expected: 2\n",
      "o file: belevskaya_b14.wav, actual: 2, expected: 2\n",
      "o file: kirishima_b04.wav, actual: 0, expected: 0\n",
      "o file: suzutsuki_b08.wav, actual: 1, expected: 1\n",
      "o file: belevskaya_b07.wav, actual: 2, expected: 2\n",
      "o file: suzutsuki_b03.wav, actual: 1, expected: 1\n",
      "o file: belevskaya_b10.wav, actual: 2, expected: 2\n",
      "o file: kirishima_b01.wav, actual: 0, expected: 0\n",
      "o file: belevskaya_07_su.wav, actual: 2, expected: 2\n",
      "10/12\n"
     ]
    }
   ],
   "source": [
    "clf = svm.SVC(gamma=0.0000001, C=10)\n",
    "clf.fit(train_X, train_y.T[0])\n",
    "clf.predict(np.array([test_X[0]]))\n",
    "\n",
    "ok_count = 0\n",
    "\n",
    "for X, y in zip(test_X, test_y):\n",
    "    actual = clf.predict(np.array([X]))[0]\n",
    "    expected = y[0]\n",
    "    file_name = y[1]\n",
    "    ok_count += 1 if actual == expected else 0\n",
    "    result = 'o' if actual == expected else 'x'\n",
    "    print(\"{} file: {}, actual: {}, expected: {}\".format(result, file_name, actual, expected))\n",
    "\n",
    "print(\"{}/{}\".format(ok_count, len(test_X)))"
   ]
  },
  {
   "cell_type": "code",
   "execution_count": 30,
   "metadata": {},
   "outputs": [
    {
     "name": "stdout",
     "output_type": "stream",
     "text": [
      "48 -> 36, 12\n",
      "o file: belevskaya_b11.wav, actual: 2, expected: 2\n",
      "o file: kirishima_c01.wav, actual: 0, expected: 0\n",
      "x file: kirishima_c09.wav, actual: 2, expected: 0\n",
      "x file: kirishima_04_su.wav, actual: 2, expected: 0\n",
      "o file: belevskaya_b14.wav, actual: 2, expected: 2\n",
      "o file: kirishima_b07.wav, actual: 0, expected: 0\n",
      "x file: suzutsuki_b06.wav, actual: 2, expected: 1\n",
      "x file: kirishima_c02.wav, actual: 2, expected: 0\n",
      "o file: kirishima_b03.wav, actual: 0, expected: 0\n",
      "o file: suzutsuki_b08.wav, actual: 1, expected: 1\n",
      "o file: suzutsuki_b02.wav, actual: 1, expected: 1\n",
      "o file: kirishima_b05.wav, actual: 0, expected: 0\n",
      "8/12\n"
     ]
    }
   ],
   "source": [
    "# 他のデータでも大丈夫か確認するために\n",
    "# 教師データとテストデータを分けるときのseedを変えてみる\n",
    "train_X, test_X, train_y, test_y = train_test_split(data_X, data_y, random_state=813)\n",
    "print(\"{} -> {}, {}\".format(len(data_X), len(train_X), len(test_X)))\n",
    "\n",
    "clf = svm.SVC(gamma=0.0000001, C=10)\n",
    "clf.fit(train_X, train_y.T[0])\n",
    "clf.predict(np.array([test_X[0]]))\n",
    "\n",
    "ok_count = 0\n",
    "\n",
    "for X, y in zip(test_X, test_y):\n",
    "    actual = clf.predict(np.array([X]))[0]\n",
    "    expected = y[0]\n",
    "    file_name = y[1]\n",
    "    ok_count += 1 if actual == expected else 0\n",
    "    result = 'o' if actual == expected else 'x'\n",
    "    print(\"{} file: {}, actual: {}, expected: {}\".format(result, file_name, actual, expected))\n",
    "\n",
    "print(\"{}/{}\".format(ok_count, len(test_X)))"
   ]
  },
  {
   "cell_type": "markdown",
   "metadata": {},
   "source": [
    "\"su\" がついたファイルは授業以外の声なのでトーンが違うため誤分類されているのかもしれない"
   ]
  }
 ],
 "metadata": {
  "kernelspec": {
   "display_name": "Python 3",
   "language": "python",
   "name": "python3"
  },
  "language_info": {
   "codemirror_mode": {
    "name": "ipython",
    "version": 3
   },
   "file_extension": ".py",
   "mimetype": "text/x-python",
   "name": "python",
   "nbconvert_exporter": "python",
   "pygments_lexer": "ipython3",
   "version": "3.6.5"
  }
 },
 "nbformat": 4,
 "nbformat_minor": 2
}
